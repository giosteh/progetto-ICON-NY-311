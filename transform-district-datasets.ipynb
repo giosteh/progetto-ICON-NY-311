{
 "cells": [
  {
   "cell_type": "code",
   "execution_count": 9,
   "metadata": {},
   "outputs": [],
   "source": [
    "import pandas as pd"
   ]
  },
  {
   "cell_type": "code",
   "execution_count": 10,
   "metadata": {},
   "outputs": [],
   "source": [
    "df1 = pd.read_csv('datasets/district-crimerate.csv')\n",
    "df2 = pd.read_csv('datasets/district-incomedistribution.csv')\n",
    "df3 = pd.read_csv('datasets/district-povertyrate.csv')\n",
    "df4 = pd.read_csv('datasets/district-racecomposition.csv')\n",
    "normalize_name = lambda s: ''.join(s.split())"
   ]
  },
  {
   "cell_type": "code",
   "execution_count": 11,
   "metadata": {},
   "outputs": [
    {
     "name": "stdout",
     "output_type": "stream",
     "text": [
      "   Community District  Property Crime Rate  Violent Crime Rate\n",
      "6                BX01                 14.0                16.8\n",
      "7                BX02                 16.5                15.0\n",
      "8                BX03                 11.8                12.2\n",
      "9                BX04                 11.2                11.2\n",
      "10               BX05                  8.0                 9.3\n"
     ]
    }
   ],
   "source": [
    "df1 = df1.iloc[6:]\n",
    "df1.drop(columns=['Name', 'Level', 'Year'], inplace=True)\n",
    "df1.rename(columns={'Geography': 'Community District',\n",
    "                    'property_crime_rate': 'Property Crime Rate',\n",
    "                    'violent_crime_rate': 'Violent Crime Rate'}, inplace=True)\n",
    "df1['Community District'] = df1['Community District'].apply(normalize_name)\n",
    "print(df1.head())"
   ]
  },
  {
   "cell_type": "code",
   "execution_count": 12,
   "metadata": {},
   "outputs": [
    {
     "name": "stdout",
     "output_type": "stream",
     "text": [
      "   Community District Population under $20,000  \\\n",
      "13               BX01                    34.6%   \n",
      "15               BX02                    34.6%   \n",
      "17               BX03                    33.1%   \n",
      "19               BX04                    26.7%   \n",
      "21               BX05                    29.2%   \n",
      "\n",
      "   Population between $20,001 and $40,000  \\\n",
      "13                                  22.0%   \n",
      "15                                  22.0%   \n",
      "17                                  21.6%   \n",
      "19                                  18.6%   \n",
      "21                                  18.9%   \n",
      "\n",
      "   Population between $40,001 and $60,000  \\\n",
      "13                                  15.3%   \n",
      "15                                  15.3%   \n",
      "17                                  17.3%   \n",
      "19                                  18.3%   \n",
      "21                                  16.9%   \n",
      "\n",
      "   Population between $60,001 and $100,000  \\\n",
      "13                                   12.3%   \n",
      "15                                   12.3%   \n",
      "17                                   15.8%   \n",
      "19                                   21.1%   \n",
      "21                                   20.9%   \n",
      "\n",
      "   Population between $100,001 and $250,000 Population over $250,000  \n",
      "13                                    14.4%                     1.5%  \n",
      "15                                    14.4%                     1.5%  \n",
      "17                                    11.1%                     1.2%  \n",
      "19                                    13.8%                     1.5%  \n",
      "21                                    12.8%                     1.3%  \n"
     ]
    }
   ],
   "source": [
    "df2 = df2[df2['year'] == '2018-2022']\n",
    "df2 = df2.iloc[6:]\n",
    "df2.drop(columns=['Name', 'Level', 'year'], inplace=True)\n",
    "df2.rename(columns={'Geography': 'Community District',\n",
    "                    '<= $20,000': 'Population under $20,000',\n",
    "                    '$20,001 -\\n$40,000': 'Population between $20,001 and $40,000',\n",
    "                    '$40,001 -\\n$60,000': 'Population between $40,001 and $60,000',\n",
    "                    '$60,001 -\\n$100,000': 'Population between $60,001 and $100,000',\n",
    "                    '$100,001 -\\n$250,000': 'Population between $100,001 and $250,000',\n",
    "                    '> $250,000': 'Population over $250,000'}, inplace=True)\n",
    "df2['Community District'] = df2['Community District'].apply(normalize_name)\n",
    "print(df2.head())"
   ]
  },
  {
   "cell_type": "code",
   "execution_count": 13,
   "metadata": {},
   "outputs": [
    {
     "name": "stdout",
     "output_type": "stream",
     "text": [
      "   Community District Poverty Rate\n",
      "6                BX01        32.7%\n",
      "7                BX02        32.7%\n",
      "8                BX03        38.4%\n",
      "9                BX04        34.6%\n",
      "10               BX05        28.6%\n"
     ]
    }
   ],
   "source": [
    "df3 = df3.iloc[6:]\n",
    "df3.drop(columns=['Name', 'Level', 'Year'], inplace=True)\n",
    "df3.rename(columns={'Geography': 'Community District',\n",
    "                    'poverty_rate': 'Poverty Rate'}, inplace=True)\n",
    "df3['Community District'] = df3['Community District'].apply(normalize_name)\n",
    "print(df3.head())"
   ]
  },
  {
   "cell_type": "code",
   "execution_count": 14,
   "metadata": {},
   "outputs": [
    {
     "name": "stdout",
     "output_type": "stream",
     "text": [
      "   Community District Hispanic Population Asian Population Black Population  \\\n",
      "6                BX01               67.9%             0.4%            27.2%   \n",
      "7                BX02               67.9%             0.4%            27.2%   \n",
      "8                BX03               62.7%             0.6%            30.3%   \n",
      "9                BX04               63.7%             1.6%            29.0%   \n",
      "10               BX05               73.1%             4.6%            13.1%   \n",
      "\n",
      "   White Population  \n",
      "6              2.2%  \n",
      "7              2.2%  \n",
      "8              3.2%  \n",
      "9              4.2%  \n",
      "10             7.2%  \n"
     ]
    }
   ],
   "source": [
    "df4 = df4.iloc[6:]\n",
    "df4.drop(columns=['Name', 'Level', 'Year'], inplace=True)\n",
    "df4.rename(columns={'Geography': 'Community District',\n",
    "                    'pop_hispanic_pct': 'Hispanic Population',\n",
    "                    'pop_non_hispanic_asian_pct': 'Asian Population',\n",
    "                    'pop_non_hispanic_black_pct': 'Black Population',\n",
    "                    'pop_non_hispanic_white_pct': 'White Population'}, inplace=True)\n",
    "df4['Community District'] = df4['Community District'].apply(normalize_name)\n",
    "print(df4.head())"
   ]
  },
  {
   "cell_type": "code",
   "execution_count": 15,
   "metadata": {},
   "outputs": [],
   "source": [
    "df_join = pd.merge(df1, df2, on='Community District', how='inner')\n",
    "df_join = pd.merge(df_join, df3, on='Community District', how='inner')\n",
    "df_join = pd.merge(df_join, df4, on='Community District', how='inner')"
   ]
  },
  {
   "cell_type": "code",
   "execution_count": 16,
   "metadata": {},
   "outputs": [],
   "source": [
    "df_join['Violent Crime Rate'] = df_join['Violent Crime Rate'] / 1000\n",
    "df_join['Violent Crime Rate'] = df_join['Violent Crime Rate'].round(3)\n",
    "df_join['Property Crime Rate'] = df_join['Property Crime Rate'] / 1000\n",
    "df_join['Property Crime Rate'] = df_join['Property Crime Rate'].round(3)\n",
    "\n",
    "for i, col in enumerate(df_join.columns):\n",
    "    if i > 2:\n",
    "        df_join[col] = df_join[col].str.replace('%', '').astype(float)\n",
    "        df_join[col] = df_join[col] / 100\n",
    "        df_join[col] = df_join[col].round(3)\n",
    "\n",
    "df_join.to_csv('datasets/join-district-data.csv', index=False)"
   ]
  }
 ],
 "metadata": {
  "kernelspec": {
   "display_name": "Python 3",
   "language": "python",
   "name": "python3"
  },
  "language_info": {
   "codemirror_mode": {
    "name": "ipython",
    "version": 3
   },
   "file_extension": ".py",
   "mimetype": "text/x-python",
   "name": "python",
   "nbconvert_exporter": "python",
   "pygments_lexer": "ipython3",
   "version": "3.12.3"
  }
 },
 "nbformat": 4,
 "nbformat_minor": 2
}
