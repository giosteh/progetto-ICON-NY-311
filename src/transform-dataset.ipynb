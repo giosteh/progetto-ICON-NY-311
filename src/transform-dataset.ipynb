{
 "cells": [
  {
   "cell_type": "code",
   "execution_count": 9,
   "metadata": {},
   "outputs": [],
   "source": [
    "import pandas as pd\n",
    "pd.set_option('display.max_rows', 200)\n",
    "pd.set_option('display.max_columns', 20)"
   ]
  },
  {
   "cell_type": "code",
   "execution_count": 10,
   "metadata": {},
   "outputs": [
    {
     "name": "stderr",
     "output_type": "stream",
     "text": [
      "C:\\Users\\raffa\\AppData\\Local\\Temp\\ipykernel_19548\\2412690863.py:1: DtypeWarning: Columns (13,14) have mixed types. Specify dtype option on import or set low_memory=False.\n",
      "  df = pd.read_csv('datasets/311-2023-05.csv')\n"
     ]
    }
   ],
   "source": [
    "df = pd.read_csv('datasets/311-2023-05.csv')"
   ]
  },
  {
   "cell_type": "code",
   "execution_count": 11,
   "metadata": {},
   "outputs": [
    {
     "name": "stdout",
     "output_type": "stream",
     "text": [
      "DATASET ROWS: 262183\n"
     ]
    }
   ],
   "source": [
    "# number of rows\n",
    "print(f\"DATASET ROWS: {len(df)}\")"
   ]
  },
  {
   "cell_type": "code",
   "execution_count": 12,
   "metadata": {},
   "outputs": [
    {
     "name": "stdout",
     "output_type": "stream",
     "text": [
      "NULL VALUES:\n",
      "+ Unique Key: 0 (0.0%)\n",
      "+ Created Date: 0 (0.0%)\n",
      "+ Closed Date: 9840 (3.75%)\n",
      "+ Agency: 0 (0.0%)\n",
      "+ Complaint Type: 0 (0.0%)\n",
      "+ Descriptor: 7099 (2.71%)\n",
      "+ Location Type: 29815 (11.37%)\n",
      "+ Incident Address: 8537 (3.26%)\n",
      "+ Street Name: 8544 (3.26%)\n",
      "+ Status: 0 (0.0%)\n",
      "+ Community Board: 0 (0.0%)\n",
      "+ Borough: 0 (0.0%)\n",
      "+ Open Data Channel Type: 0 (0.0%)\n",
      "+ Vehicle Type: 262124 (99.98%)\n",
      "+ Taxi Company Borough: 262023 (99.94%)\n",
      "+ Location: 4312 (1.64%)\n"
     ]
    }
   ],
   "source": [
    "# checking null values in columns\n",
    "count_rows = len(df)\n",
    "print(\"NULL VALUES:\")\n",
    "for i, col in enumerate(df.columns):\n",
    "    count_null_values = df[col].isnull().sum()\n",
    "    perc_null_values = round(count_null_values / count_rows * 100, 2)\n",
    "    print(f\"+ {col}: {count_null_values} ({perc_null_values}%)\")"
   ]
  },
  {
   "cell_type": "code",
   "execution_count": 13,
   "metadata": {},
   "outputs": [
    {
     "name": "stderr",
     "output_type": "stream",
     "text": [
      "C:\\Users\\raffa\\AppData\\Local\\Temp\\ipykernel_19548\\2412690863.py:1: DtypeWarning: Columns (13,14) have mixed types. Specify dtype option on import or set low_memory=False.\n",
      "  df = pd.read_csv('datasets/311-2023-05.csv')\n"
     ]
    }
   ],
   "source": [
    "df = pd.read_csv('datasets/311-2023-05.csv')"
   ]
  },
  {
   "cell_type": "code",
   "execution_count": 14,
   "metadata": {},
   "outputs": [],
   "source": [
    "df.drop(columns=['Vehicle Type', 'Taxi Company Borough'], inplace=True)"
   ]
  },
  {
   "cell_type": "code",
   "execution_count": 15,
   "metadata": {},
   "outputs": [],
   "source": [
    "acronyms = {'MANHATTAN': 'MN',\n",
    "            'BROOKLYN': 'BK',\n",
    "            'QUEENS': 'QN',\n",
    "            'BRONX': 'BX',\n",
    "            'STATEN ISLAND': 'SI'}\n",
    "\n",
    "def transform_district_name(district_name):\n",
    "    number, borough = district_name.split(' ', 1)\n",
    "    borough_acronym = acronyms.get(borough)\n",
    "    return f\"{borough_acronym}{number}\"\n",
    "\n",
    "normalize_name = lambda s: ' '.join(s.split())\n",
    "\n",
    "for col in df.columns:\n",
    "    df[col] = df[col].fillna('unknown')\n",
    "\n",
    "cols_to_normalize = ['Complaint Type', 'Descriptor', 'Location Type',\n",
    "                     'Incident Address', 'Street Name', 'Status',\n",
    "                     'Borough', 'Open Data Channel Type']\n",
    "\n",
    "for col in cols_to_normalize:\n",
    "    df[col] = df[col].str.lower()\n",
    "    df[col] = df[col].apply(normalize_name)\n",
    "\n",
    "df.rename(columns={'Community Board': 'Community District'}, inplace=True)\n",
    "df['Community District'] = df['Community District'].apply(transform_district_name)\n",
    "\n",
    "df[['Latitude', 'Longitude']] = df['Location'].str.extract(r'\\(([^,]+), ([^)]+)\\)')\n",
    "df['Latitude'] = df['Latitude'].astype(float)\n",
    "df['Longitude'] = df['Longitude'].astype(float)"
   ]
  }
 ],
 "metadata": {
  "kernelspec": {
   "display_name": "Python 3",
   "language": "python",
   "name": "python3"
  },
  "language_info": {
   "codemirror_mode": {
    "name": "ipython",
    "version": 3
   },
   "file_extension": ".py",
   "mimetype": "text/x-python",
   "name": "python",
   "nbconvert_exporter": "python",
   "pygments_lexer": "ipython3",
   "version": "3.12.3"
  }
 },
 "nbformat": 4,
 "nbformat_minor": 2
}
