{
 "cells": [
  {
   "cell_type": "code",
   "execution_count": 1,
   "metadata": {},
   "outputs": [],
   "source": [
    "# IMPORTS\n",
    "\n",
    "import pandas as pd\n",
    "from datetime import datetime\n",
    "from pyswip import Prolog"
   ]
  },
  {
   "cell_type": "code",
   "execution_count": 2,
   "metadata": {},
   "outputs": [],
   "source": [
    "# COSTANTI\n",
    "\n",
    "FACTS_FILE_PATH = 'kb/facts.pl'\n",
    "RULES_FILE_PATH = 'kb/rules.pl'"
   ]
  },
  {
   "cell_type": "code",
   "execution_count": 3,
   "metadata": {},
   "outputs": [],
   "source": [
    "# CREAZIONE DELLA KNOWLEDGE BASE\n",
    "\n",
    "def create_facts_from_datasets():\n",
    "    \"\"\"\n",
    "    Crea la base di conoscenza prolog a partire dai dati.\n",
    "    \"\"\"\n",
    "    df_requests = pd.read_csv('datasets/311-2023-05-v2.csv')\n",
    "    df_subboroughs = pd.read_csv('datasets/subboroughs-ny.csv')\n",
    "\n",
    "    def write_facts(path, facts):\n",
    "        \"\"\"\n",
    "        Scrive su file la stringa passata.\n",
    "        \"\"\"\n",
    "        with open(path, 'w+') as file:\n",
    "            file.write(facts)\n",
    "    \n",
    "    def convert_to_prolog_date(s):\n",
    "        if s == 'unknown':\n",
    "            return s\n",
    "        date = datetime.strptime(s, '%Y-%m-%d %H:%M:%S')\n",
    "        return f\"date({date.day},{date.month},{date.year})\"\n",
    "\n",
    "\n",
    "    facts = \":-style_check(-discontiguous).\\n\"\n",
    "\n",
    "    for _, row in df_requests.iterrows():\n",
    "        request = f\"request({row['Unique Key']})\"\n",
    "        fact = (f\"created_date({request}, {convert_to_prolog_date(row['Created Date'])}).\\n\"\n",
    "                f\"closed_date({request}, {convert_to_prolog_date(row['Closed Date'])}).\\n\"\n",
    "                f\"status({request}, '{row['Status']}').\\n\"\n",
    "                f\"complaint_type({request}, '{row['Complaint Type']}').\\n\"\n",
    "                f\"location_type({request}, '{row['Location Type']}').\\n\"\n",
    "                f\"agency({request}, '{row['Agency']}').\\n\"\n",
    "                f\"channel_type({request}, '{row['Channel Type']}').\\n\"\n",
    "                f\"incident_location_lat({request}, {row['Latitude']}).\\n\"\n",
    "                f\"incident_location_long({request}, {row['Longitude']}).\\n\"\n",
    "                f\"incident_address({request}, '{row['Incident Address']}').\\n\"\n",
    "                f\"incident_borough({request}, '{row['Borough']}').\\n\"\n",
    "                f\"incident_subborough({request}, subborough('{row['Sub-Borough Area']}')).\\n\")\n",
    "        facts += fact\n",
    "\n",
    "    for _, row in df_subboroughs.iterrows():\n",
    "        subborough = f\"subborough('{row['Sub-Borough Area']}')\"\n",
    "        fact = (f\"property_crime_rate({subborough}, {row['Property Crime Rate']}).\\n\"\n",
    "                f\"violent_crime_rate({subborough}, {row['Violent Crime Rate']}).\\n\"\n",
    "                f\"low_income_pop({subborough}, {row['Low Income Population']}).\\n\"\n",
    "                f\"mediumlow_income_pop({subborough}, {row['Medium-Low Income Population']}).\\n\"\n",
    "                f\"medium_income_pop({subborough}, {row['Medium Income Population']}).\\n\"\n",
    "                f\"mediumhigh_income_pop({subborough}, {row['Medium-High Income Population']}).\\n\"\n",
    "                f\"high_income_pop({subborough}, {row['High Income Population']}).\\n\"\n",
    "                f\"veryhigh_income_pop({subborough}, {row['Very High Income Population']}).\\n\"\n",
    "                f\"poverty_rate({subborough}, {row['Poverty Rate']}).\\n\"\n",
    "                f\"hispanic_pop({subborough}, {row['Hispanic Population']}).\\n\"\n",
    "                f\"asian_pop({subborough}, {row['Asian Population']}).\\n\"\n",
    "                f\"black_pop({subborough}, {row['Black Population']}).\\n\"\n",
    "                f\"white_pop({subborough}, {row['White Population']}).\\n\"\n",
    "                f\"pop_density({subborough}, {row['Population Density']}).\\n\"\n",
    "                f\"pop_aged_65({subborough}, {row['Population Aged 65+']}).\\n\"\n",
    "                f\"nys_born_people({subborough}, {row['NYS Born People']}).\\n\"\n",
    "                f\"foreign_born_people({subborough}, {row['Foreign Born People']}).\\n\"\n",
    "                f\"disabled_people({subborough}, {row['Disabled People']}).\\n\"\n",
    "                f\"unemployment_rate({subborough}, {row['Unemployment Rate']}).\\n\"\n",
    "                f\"carfree_commuters({subborough}, {row['Car-Free Commuters']}).\\n\"\n",
    "                f\"families_with_children({subborough}, {row['Families with Children']}).\\n\"\n",
    "                f\"people_with_bachelor({subborough}, {row['People O25 with Bachelor']}).\\n\"\n",
    "                f\"people_without_diploma({subborough}, {row['People O25 without Diploma']}).\\n\")\n",
    "        facts += fact\n",
    "    \n",
    "    write_facts(FACTS_FILE_PATH, facts)"
   ]
  },
  {
   "cell_type": "code",
   "execution_count": 4,
   "metadata": {},
   "outputs": [],
   "source": [
    "create_facts_from_datasets()"
   ]
  }
 ],
 "metadata": {
  "kernelspec": {
   "display_name": "Python 3",
   "language": "python",
   "name": "python3"
  },
  "language_info": {
   "codemirror_mode": {
    "name": "ipython",
    "version": 3
   },
   "file_extension": ".py",
   "mimetype": "text/x-python",
   "name": "python",
   "nbconvert_exporter": "python",
   "pygments_lexer": "ipython3",
   "version": "3.12.3"
  }
 },
 "nbformat": 4,
 "nbformat_minor": 2
}
